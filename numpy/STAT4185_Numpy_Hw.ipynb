{
 "cells": [
  {
   "cell_type": "markdown",
   "metadata": {
    "id": "s0_5ZmgiFSXh"
   },
   "source": [
    "# STAT 4185 NumPy Hw - Hari Patchigolla\n",
    "\n",
    "This notebook 3 questions:\n",
    "- If you do not understand these questions or do not know how to some of these problems, please ask us on discord\n",
    "- We will given the solutions next week"
   ]
  },
  {
   "cell_type": "code",
   "execution_count": 1,
   "metadata": {
    "id": "PiYbOQBEAvgw"
   },
   "outputs": [],
   "source": [
    "import numpy as np\n",
    "from numpy.lib.scimath import sqrt as csqrt\n",
    "import random"
   ]
  },
  {
   "cell_type": "markdown",
   "metadata": {
    "id": "zNI2g4ylFSX3"
   },
   "source": [
    "---"
   ]
  },
  {
   "cell_type": "markdown",
   "metadata": {
    "id": "WnM6DLF0-Vk2"
   },
   "source": [
    "# Level 1 Question: Matrix Multiplication (5 points)\n",
    "\n",
    "Question: Given three lists (list1, list2 & list3), create the matrix below. \n",
    "\n",
    "$\n",
    "output matrix =\n",
    " \\begin{pmatrix}\n",
    "  161 & 203\\\\\n",
    "  154 & 167\\\\\n",
    " \\end{pmatrix}\n",
    "$ \n",
    "<br />\n",
    "\n",
    "#### Useful functions:\n",
    "```python\n",
    "np.array() \n",
    "np.reshape() \n",
    "np.dot()\n",
    " ```\n",
    "\n",
    "Hint: You need to reshape the 'lists' and multiply them in a specific order. The dimensions of the first matrix you create should be (2,3). Notice how the output should have a dimention of (2,2). Also remember that you can only multiply two matricies if the number of columns of the first matrix is equal to the number of rows of the second matrix."
   ]
  },
  {
   "cell_type": "code",
   "execution_count": null,
   "metadata": {
    "id": "sZtDRXkZ_j_m"
   },
   "outputs": [],
   "source": [
    "list1 = [3,6,5,2,9,0]\n",
    "list2 = [2,8,2,7,1,9]\n",
    "list3 = [7,4,0,1]\n",
    "# Write code here"
   ]
  },
  {
   "cell_type": "markdown",
   "metadata": {
    "id": "Z4nBfkhJFSX-"
   },
   "source": [
    "---"
   ]
  },
  {
   "cell_type": "markdown",
   "metadata": {
    "id": "5Wh4KJhyEgOk"
   },
   "source": [
    "# Level 2 Question: Dynammic Programming w/ Numpy (15 points)\n",
    "\n",
    "### For those who do not know dynamic programming, here is a quick introduction\n",
    "Dynammic Programming is an algorthimic technique that allows you to solve problems through the solutions of sub problems.\n",
    "<br>\n",
    "Take for example the fibonacci sequence given by the formula:\n",
    "\n",
    "<img src=\"https://images.ctfassets.net/3s5io6mnxfqz/7whl3QX652UcMHYW55IZfy/248814801a399bea7797c7eb12f7ff83/Screen_Shot_2020-10-14_at_1.57.52_PM.png?fm=jpg&w=800&fl=progressive\" width=\"150\"/>\n",
    "\n",
    "This outputs the seqeunce:\n",
    "$0, 1, 1, 2, 3, 5, 8, 13, 12 ...$\n",
    "\n",
    "The python implmentation for the fibonacci sequence is:\n",
    "```python\n",
    "def fib(n):\n",
    "    if n == 1 or n == 2:\n",
    "        return 1\n",
    "    else:\n",
    "        return fib(n-1) + fib(n-2)\n",
    "```\n",
    "\n",
    "This is a recursive implmentation of the fibonacci sequence (since the function calls itself). This however take a very long time to compute when the input (n) get large. This run in exponential time of $2^n$. Click [here](https://evoniuk.github.io/posts/fibonacci.html) to learn and read more about the time complexity of recursive fibonacci. However a quick explination as to why is because every operation calls the function twice. We can represent this is a tree as follows:\n",
    "\n",
    "<img src=\"https://i.stack.imgur.com/7iU1j.png\" width=\"400\"/>\n",
    "\n",
    "Notice how everytime $fib(n)$ is called, $fib(n)$ makes a call to $fib(n-1)$ and $fib(n-2)$\n",
    "\n",
    "Furthermore, notice how certain $fib(n)$ calls are begin requeted. For example, there are 2 calls to $fib(3)$ and 2 calls to $fib(2)$ etc.\n",
    "\n",
    "So fix this problem (since we call the same function multiple times which is one of the reason why the recursive definition is too slow) we implement a dynamic programming approach. We can avoid the repeated work by storing the Fibonacci numbers calculated so far. \n",
    "```python\n",
    "def fib(n):\n",
    "    # Taking 1st two fibonacci numbers as 0 and 1\n",
    "    f = [0, 1]\n",
    "    for i in range(2, n+1):\n",
    "        f.append(f[i-1] + f[i-2]) #we compute the fib seq and store it in the lsit\n",
    "    return f[n]\n",
    "``` \n",
    "This is significantly faster because we solve the probelm of fib(n) by solving the sub problems at lead up to it and then store it. **This is the essense of dynamic programming**. This way we do not need to repeat any calculations. To learn more about why this works click [here](https://iq.opengenus.org/n-th-fibonacci-number-using-dynamic-programming/).\n",
    "\n",
    "### End of review\n",
    "\n",
    "One algorithm used in the field of Natural Language Processing (NLP) is the edit distance algorithm. <b> I will note that before trying this problem you have the get a good understand of this algorithm. So please ask questions! </b> Edit distance is a way of quantifying how dissimilar (or similar) two strings (e.g., words) are to one another by counting the **minimum number of operations required to transform one string into the other string**. The recursive formula for this algorithm is as follows. \n",
    "\n",
    "<img src=\"https://miro.medium.com/max/1094/1*zL9VPl17oeW4hQiph8766g.png\" width=\"400\"/>\n",
    "\n",
    "Essentially, for the dynammic programming implementation of the fibonacci sequence, the sub problems were solved and then stored into a list. However for the edit distance problem the sub problems are solved and stored into a 2D table (think a 2D numpy array). For example, given the strings \"ELEPHANT\" and \"RELEVANT\", the edit distance between the two is 3. So there needs to be 3 operations to change the two words into each other. \n",
    "\n",
    "<img src=\"https://www.ritambhara.in/wp-content/uploads/2016/05/min_Edit_Distance_DP_Table.png\" width=\"700\"/>\n",
    "\n",
    "How do we fill out this table using the recursive formula? Watch this [video](https://www.youtube.com/watch?v=We3YDTzNXEk) to learn how. <b> You have to watch this video to solve this problem </b>\n",
    "\n",
    "**Question**: Create a function `edit_distance(string1, string2)` that returns the edit distance of two input strings. Make sure to use numpy functions to solve this.\n",
    "\n",
    "#### Useful functions: \n",
    "```python\n",
    "np.zeros()\n",
    "#accessing elements (splicing) within a numpy arrays is also very useful for solving this\n",
    "```\n"
   ]
  },
  {
   "cell_type": "code",
   "execution_count": null,
   "metadata": {
    "id": "0FVV0APvdZiL"
   },
   "outputs": [],
   "source": [
    "def edit_distance(string1, string2):\n",
    "    pass\n",
    "\n",
    "assert(edit_distance('hello', 'relevant') == 6)\n",
    "assert(edit_distance('elephant', 'relevant') == 3)\n",
    "assert(edit_distance('statistics', 'mathematics') == 6)\n",
    "assert(edit_distance('numpy', 'alexa') == 5)"
   ]
  },
  {
   "cell_type": "markdown",
   "metadata": {
    "id": "3xf782BQVBhk"
   },
   "source": [
    "# Level 3 Question: Vectorized Implementation of the Discrete Fourier Transform (DFT) (20 points)\n",
    "\n",
    "For the purposes of solving this question you do not actually need to know what the DFT is, however if you are curious you can read more about [here](https://www.robots.ox.ac.uk/~sjrob/Teaching/SP/l7.pdf) and watch this [video](https://www.youtube.com/watch?v=nl9TZanwbBk) to get a better intuition.\n",
    "\n",
    "The formula for the DFT is given as follows:\n",
    "\n",
    "<img src=\"https://images.squarespace-cdn.com/content/v1/5230e9f8e4b06ab69d1d8068/1551062445198-50AWK4MBGTX91T37976R/ke17ZwdGBToddI8pDm48kOxSPJF7C3lryFz4mxjX5pJZw-zPPgdn4jUwVcJE1ZvWEtT5uBSRWt4vQZAgTJucoTqqXjS3CfNDSuuf31e0tVE8Nu52Oe9TYUyuz7ktTIALx4NwD9ndt9IFW3zpxXSc-ltO8nJtk629tZGIWiyY3XQ/discrete+Fourier+transform+formula.PNG?format=500w\" width=\"400\"/>\n",
    "\n",
    "Here, $j = sqrt(-1)$, $N$ is equal to the length of the output vector $X$ which is the same length at the input vector $x$, $X(k)$ denotes the $kth$ position of the output vector $X$\n",
    "\n",
    "**Question**: Below, I have created a vector x of random integers. Understand the attributes of x, and implement a vectorized calculation of the DFT given the above formula.\n",
    "\n",
    "Before you go about this problem, read the code cells below to understand what vectorization is. If you already know then you can skip this."
   ]
  },
  {
   "cell_type": "markdown",
   "metadata": {
    "id": "LwXsBnj9b8nQ"
   },
   "source": [
    "Below, write a vectorized implementation of the DFT, some useful functions are\n",
    "```python\n",
    "np.arange()\n",
    "np.sum()\n",
    "np.exp()\n",
    "```\n",
    "<br>\n",
    "You might not need all of these functions and feel free use other functions as well. Also note that the output vector will consist of complex values.\n",
    "<br>\n",
    "NOTE: $j = \\sqrt{-1}$"
   ]
  },
  {
   "cell_type": "code",
   "execution_count": 3,
   "metadata": {
    "id": "j2f9femeN5Z_"
   },
   "outputs": [],
   "source": [
    "np.random.seed(5)\n",
    "x = np.random.randint(200, size=(100))\n",
    "j = csqrt(-1)\n",
    "#Write Code here"
   ]
  },
  {
   "cell_type": "code",
   "execution_count": null,
   "metadata": {},
   "outputs": [],
   "source": [
    "# x = np.array([ 99, 189, 118, 144,  73,   8, 190, 155, 112, 158])\n",
    "# the dft of x is below\n",
    "# X = np.array([1246.        +0.00000000e+00j,  137.63525492+5.53048143e+01j,\n",
    "#        -132.46962346-1.50748714e+02j,  120.86474508+7.88519341e+01j,\n",
    "#        -223.03037654-7.08242566e+01j,  -62.        +5.01570949e-13j,\n",
    "#        -223.03037654+7.08242566e+01j,  120.86474508-7.88519341e+01j,\n",
    "#        -132.46962346+1.50748714e+02j,  137.63525492-5.53048143e+01j])\n",
    "# Use the above to check your answer."
   ]
  },
  {
   "cell_type": "code",
   "execution_count": 3,
   "metadata": {},
   "outputs": [],
   "source": [
    "T = np.array([[10],[19]])"
   ]
  },
  {
   "cell_type": "code",
   "execution_count": 5,
   "metadata": {},
   "outputs": [
    {
     "data": {
      "text/plain": [
       "array([[10],\n",
       "       [19]])"
      ]
     },
     "execution_count": 5,
     "metadata": {},
     "output_type": "execute_result"
    }
   ],
   "source": [
    "T"
   ]
  },
  {
   "cell_type": "code",
   "execution_count": null,
   "metadata": {},
   "outputs": [],
   "source": []
  }
 ],
 "metadata": {
  "colab": {
   "name": "DataScieneNumpyAfterWrkPractice (1).ipynb",
   "provenance": []
  },
  "kernelspec": {
   "display_name": "Python 3",
   "language": "python",
   "name": "python3"
  },
  "language_info": {
   "codemirror_mode": {
    "name": "ipython",
    "version": 3
   },
   "file_extension": ".py",
   "mimetype": "text/x-python",
   "name": "python",
   "nbconvert_exporter": "python",
   "pygments_lexer": "ipython3",
   "version": "3.8.2"
  }
 },
 "nbformat": 4,
 "nbformat_minor": 4
}
