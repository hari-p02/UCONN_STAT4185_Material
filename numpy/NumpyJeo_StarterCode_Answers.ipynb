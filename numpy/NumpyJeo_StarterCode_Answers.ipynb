{
  "nbformat": 4,
  "nbformat_minor": 0,
  "metadata": {
    "colab": {
      "provenance": [],
      "collapsed_sections": [
        "U3lGHuO08NUQ"
      ]
    },
    "kernelspec": {
      "name": "python3",
      "display_name": "Python 3"
    },
    "language_info": {
      "name": "python"
    }
  },
  "cells": [
    {
      "cell_type": "code",
      "execution_count": null,
      "metadata": {
        "id": "DZxYwsKR7QQQ"
      },
      "outputs": [],
      "source": [
        "import numpy as np"
      ]
    },
    {
      "cell_type": "markdown",
      "source": [
        "# 100\n"
      ],
      "metadata": {
        "id": "dAGh9TM-73R6"
      }
    },
    {
      "cell_type": "markdown",
      "source": [
        "## Open Ended"
      ],
      "metadata": {
        "id": "nQgHLOwP77Fx"
      }
    },
    {
      "cell_type": "code",
      "source": [
        "# return [6,8,10,12]\n",
        "x = [1,2,3,4]\n",
        "y = [5,6,7,8]\n",
        "# How many operations needed to return [6,8,10,12] with the lists x and y\n",
        "x1 = np.array(x)\n",
        "y1 = np.array(y)\n",
        "# How many operations needed to return [6,8,10,12] with the arrays x1 and y1"
      ],
      "metadata": {
        "id": "oM_SH8b7EXvz"
      },
      "execution_count": null,
      "outputs": []
    },
    {
      "cell_type": "markdown",
      "source": [
        "## Indexing/Slicing"
      ],
      "metadata": {
        "id": "ijOsMc3O77Ms"
      }
    },
    {
      "cell_type": "code",
      "source": [
        "arr1 = np.arange(0,11,2)\n",
        "arr2 = arr1\n",
        "arr1[0] = 999999\n",
        "print('arr1: ', arr1)\n",
        "print('arr2: ', arr2)"
      ],
      "metadata": {
        "colab": {
          "base_uri": "https://localhost:8080/"
        },
        "id": "n8B5zsjgALew",
        "outputId": "64009b26-5f5e-46fb-c6ef-afc20f2e8836"
      },
      "execution_count": null,
      "outputs": [
        {
          "output_type": "stream",
          "name": "stdout",
          "text": [
            "arr1:  [999999      2      4      6      8     10]\n",
            "arr2:  [999999      2      4      6      8     10]\n"
          ]
        }
      ]
    },
    {
      "cell_type": "markdown",
      "source": [
        "## Array Manipulation"
      ],
      "metadata": {
        "id": "DnlIM-By77Vj"
      }
    },
    {
      "cell_type": "code",
      "source": [
        "arr1 = np.array([1,2,3,4,5,6,7,8])\n",
        "np.reshape(arr1, (2,4))\n",
        "arr1.shape"
      ],
      "metadata": {
        "colab": {
          "base_uri": "https://localhost:8080/"
        },
        "id": "WUT3LbJT-dmK",
        "outputId": "c650d34c-021a-4d75-c3c5-8c18fafedee1"
      },
      "execution_count": null,
      "outputs": [
        {
          "output_type": "execute_result",
          "data": {
            "text/plain": [
              "(8,)"
            ]
          },
          "metadata": {},
          "execution_count": 9
        }
      ]
    },
    {
      "cell_type": "markdown",
      "source": [
        "## Math"
      ],
      "metadata": {
        "id": "V5e0Yi_D77dx"
      }
    },
    {
      "cell_type": "code",
      "source": [
        "x = list(range(1, 1000001))\n",
        "x = np.array(x)\n",
        "result = np.sum(x, dtype=np.int64)\n",
        "print(result, f'ans: {1000000 * 1000001 / 2}')"
      ],
      "metadata": {
        "colab": {
          "base_uri": "https://localhost:8080/"
        },
        "id": "jMMh2tfh8ioe",
        "outputId": "dea160d9-ce92-4067-c855-20082eabd1a3"
      },
      "execution_count": null,
      "outputs": [
        {
          "output_type": "stream",
          "name": "stdout",
          "text": [
            "500000500000 ans: 500000500000.0\n"
          ]
        }
      ]
    },
    {
      "cell_type": "markdown",
      "source": [
        "## Miscellaneous"
      ],
      "metadata": {
        "id": "r5QMW86x77mI"
      }
    },
    {
      "cell_type": "markdown",
      "source": [
        "No starter code"
      ],
      "metadata": {
        "id": "8Zs325hsc82v"
      }
    },
    {
      "cell_type": "markdown",
      "source": [
        "# 200\n"
      ],
      "metadata": {
        "id": "U3lGHuO08NUQ"
      }
    },
    {
      "cell_type": "markdown",
      "source": [
        "## Open Ended"
      ],
      "metadata": {
        "id": "yCcNeAMiIEnv"
      }
    },
    {
      "cell_type": "markdown",
      "source": [
        "Question on screen"
      ],
      "metadata": {
        "id": "9eHtMae52xac"
      }
    },
    {
      "cell_type": "markdown",
      "source": [
        "## Indexing/Slicing"
      ],
      "metadata": {
        "id": "-7TPKpXr8NUS"
      }
    },
    {
      "cell_type": "code",
      "source": [
        "from sklearn import datasets\n",
        "data = datasets.load_wine().data\n",
        "# TODO\n",
        "data[:, np.mean(data, axis=0) > 10]\n",
        "# np.mean(data, axis=0)"
      ],
      "metadata": {
        "id": "chaMfg5h4cA6",
        "colab": {
          "base_uri": "https://localhost:8080/"
        },
        "outputId": "e7fa593d-3b36-4cf9-e2c2-9dae45da8843"
      },
      "execution_count": null,
      "outputs": [
        {
          "output_type": "execute_result",
          "data": {
            "text/plain": [
              "array([[  14.23,   15.6 ,  127.  , 1065.  ],\n",
              "       [  13.2 ,   11.2 ,  100.  , 1050.  ],\n",
              "       [  13.16,   18.6 ,  101.  , 1185.  ],\n",
              "       [  14.37,   16.8 ,  113.  , 1480.  ],\n",
              "       [  13.24,   21.  ,  118.  ,  735.  ],\n",
              "       [  14.2 ,   15.2 ,  112.  , 1450.  ],\n",
              "       [  14.39,   14.6 ,   96.  , 1290.  ],\n",
              "       [  14.06,   17.6 ,  121.  , 1295.  ],\n",
              "       [  14.83,   14.  ,   97.  , 1045.  ],\n",
              "       [  13.86,   16.  ,   98.  , 1045.  ],\n",
              "       [  14.1 ,   18.  ,  105.  , 1510.  ],\n",
              "       [  14.12,   16.8 ,   95.  , 1280.  ],\n",
              "       [  13.75,   16.  ,   89.  , 1320.  ],\n",
              "       [  14.75,   11.4 ,   91.  , 1150.  ],\n",
              "       [  14.38,   12.  ,  102.  , 1547.  ],\n",
              "       [  13.63,   17.2 ,  112.  , 1310.  ],\n",
              "       [  14.3 ,   20.  ,  120.  , 1280.  ],\n",
              "       [  13.83,   20.  ,  115.  , 1130.  ],\n",
              "       [  14.19,   16.5 ,  108.  , 1680.  ],\n",
              "       [  13.64,   15.2 ,  116.  ,  845.  ],\n",
              "       [  14.06,   16.  ,  126.  ,  780.  ],\n",
              "       [  12.93,   18.6 ,  102.  ,  770.  ],\n",
              "       [  13.71,   16.6 ,  101.  , 1035.  ],\n",
              "       [  12.85,   17.8 ,   95.  , 1015.  ],\n",
              "       [  13.5 ,   20.  ,   96.  ,  845.  ],\n",
              "       [  13.05,   25.  ,  124.  ,  830.  ],\n",
              "       [  13.39,   16.1 ,   93.  , 1195.  ],\n",
              "       [  13.3 ,   17.  ,   94.  , 1285.  ],\n",
              "       [  13.87,   19.4 ,  107.  ,  915.  ],\n",
              "       [  14.02,   16.  ,   96.  , 1035.  ],\n",
              "       [  13.73,   22.5 ,  101.  , 1285.  ],\n",
              "       [  13.58,   19.1 ,  106.  , 1515.  ],\n",
              "       [  13.68,   17.2 ,  104.  ,  990.  ],\n",
              "       [  13.76,   19.5 ,  132.  , 1235.  ],\n",
              "       [  13.51,   19.  ,  110.  , 1095.  ],\n",
              "       [  13.48,   20.5 ,  100.  ,  920.  ],\n",
              "       [  13.28,   15.5 ,  110.  ,  880.  ],\n",
              "       [  13.05,   18.  ,   98.  , 1105.  ],\n",
              "       [  13.07,   15.5 ,   98.  , 1020.  ],\n",
              "       [  14.22,   13.2 ,  128.  ,  760.  ],\n",
              "       [  13.56,   16.2 ,  117.  ,  795.  ],\n",
              "       [  13.41,   18.8 ,   90.  , 1035.  ],\n",
              "       [  13.88,   15.  ,  101.  , 1095.  ],\n",
              "       [  13.24,   17.5 ,  103.  ,  680.  ],\n",
              "       [  13.05,   17.  ,  107.  ,  885.  ],\n",
              "       [  14.21,   18.9 ,  111.  , 1080.  ],\n",
              "       [  14.38,   16.  ,  102.  , 1065.  ],\n",
              "       [  13.9 ,   16.  ,  101.  ,  985.  ],\n",
              "       [  14.1 ,   18.8 ,  103.  , 1060.  ],\n",
              "       [  13.94,   17.4 ,  108.  , 1260.  ],\n",
              "       [  13.05,   12.4 ,   92.  , 1150.  ],\n",
              "       [  13.83,   17.2 ,   94.  , 1265.  ],\n",
              "       [  13.82,   14.  ,  111.  , 1190.  ],\n",
              "       [  13.77,   17.1 ,  115.  , 1375.  ],\n",
              "       [  13.74,   16.4 ,  118.  , 1060.  ],\n",
              "       [  13.56,   20.5 ,  116.  , 1120.  ],\n",
              "       [  14.22,   16.3 ,  118.  ,  970.  ],\n",
              "       [  13.29,   16.8 ,  102.  , 1270.  ],\n",
              "       [  13.72,   16.7 ,  108.  , 1285.  ],\n",
              "       [  12.37,   10.6 ,   88.  ,  520.  ],\n",
              "       [  12.33,   16.  ,  101.  ,  680.  ],\n",
              "       [  12.64,   16.8 ,  100.  ,  450.  ],\n",
              "       [  13.67,   18.  ,   94.  ,  630.  ],\n",
              "       [  12.37,   19.  ,   87.  ,  420.  ],\n",
              "       [  12.17,   19.  ,  104.  ,  355.  ],\n",
              "       [  12.37,   18.1 ,   98.  ,  678.  ],\n",
              "       [  13.11,   15.  ,   78.  ,  502.  ],\n",
              "       [  12.37,   19.6 ,   78.  ,  510.  ],\n",
              "       [  13.34,   17.  ,  110.  ,  750.  ],\n",
              "       [  12.21,   16.8 ,  151.  ,  718.  ],\n",
              "       [  12.29,   20.4 ,  103.  ,  870.  ],\n",
              "       [  13.86,   25.  ,   86.  ,  410.  ],\n",
              "       [  13.49,   24.  ,   87.  ,  472.  ],\n",
              "       [  12.99,   30.  ,  139.  ,  985.  ],\n",
              "       [  11.96,   21.  ,  101.  ,  886.  ],\n",
              "       [  11.66,   16.  ,   97.  ,  428.  ],\n",
              "       [  13.03,   16.  ,   86.  ,  392.  ],\n",
              "       [  11.84,   18.  ,  112.  ,  500.  ],\n",
              "       [  12.33,   14.8 ,  136.  ,  750.  ],\n",
              "       [  12.7 ,   23.  ,  101.  ,  463.  ],\n",
              "       [  12.  ,   19.  ,   86.  ,  278.  ],\n",
              "       [  12.72,   18.8 ,   86.  ,  714.  ],\n",
              "       [  12.08,   24.  ,   78.  ,  630.  ],\n",
              "       [  13.05,   22.5 ,   85.  ,  515.  ],\n",
              "       [  11.84,   18.  ,   94.  ,  520.  ],\n",
              "       [  12.67,   18.  ,   99.  ,  450.  ],\n",
              "       [  12.16,   22.8 ,   90.  ,  495.  ],\n",
              "       [  11.65,   26.  ,   88.  ,  562.  ],\n",
              "       [  11.64,   21.6 ,   84.  ,  680.  ],\n",
              "       [  12.08,   23.6 ,   70.  ,  625.  ],\n",
              "       [  12.08,   18.5 ,   81.  ,  480.  ],\n",
              "       [  12.  ,   22.  ,   86.  ,  450.  ],\n",
              "       [  12.69,   20.7 ,   80.  ,  495.  ],\n",
              "       [  12.29,   18.  ,   88.  ,  290.  ],\n",
              "       [  11.62,   18.  ,   98.  ,  345.  ],\n",
              "       [  12.47,   19.  ,  162.  ,  937.  ],\n",
              "       [  11.81,   21.5 ,  134.  ,  625.  ],\n",
              "       [  12.29,   16.  ,   85.  ,  428.  ],\n",
              "       [  12.37,   18.5 ,   88.  ,  660.  ],\n",
              "       [  12.29,   18.  ,   88.  ,  406.  ],\n",
              "       [  12.08,   17.5 ,   97.  ,  710.  ],\n",
              "       [  12.6 ,   18.5 ,   88.  ,  562.  ],\n",
              "       [  12.34,   21.  ,   98.  ,  438.  ],\n",
              "       [  11.82,   19.5 ,   86.  ,  415.  ],\n",
              "       [  12.51,   20.5 ,   85.  ,  672.  ],\n",
              "       [  12.42,   22.  ,   90.  ,  315.  ],\n",
              "       [  12.25,   19.  ,   80.  ,  510.  ],\n",
              "       [  12.72,   22.5 ,   84.  ,  488.  ],\n",
              "       [  12.22,   19.  ,   92.  ,  312.  ],\n",
              "       [  11.61,   20.  ,   94.  ,  680.  ],\n",
              "       [  11.46,   19.5 ,  107.  ,  562.  ],\n",
              "       [  12.52,   21.  ,   88.  ,  325.  ],\n",
              "       [  11.76,   20.  ,  103.  ,  607.  ],\n",
              "       [  11.41,   21.  ,   88.  ,  434.  ],\n",
              "       [  12.08,   22.5 ,   84.  ,  385.  ],\n",
              "       [  11.03,   21.5 ,   85.  ,  407.  ],\n",
              "       [  11.82,   20.8 ,   86.  ,  495.  ],\n",
              "       [  12.42,   22.5 ,  108.  ,  345.  ],\n",
              "       [  12.77,   16.  ,   80.  ,  372.  ],\n",
              "       [  12.  ,   19.  ,   87.  ,  564.  ],\n",
              "       [  11.45,   20.  ,   96.  ,  625.  ],\n",
              "       [  11.56,   28.5 ,  119.  ,  465.  ],\n",
              "       [  12.42,   26.5 ,  102.  ,  365.  ],\n",
              "       [  13.05,   21.5 ,   86.  ,  380.  ],\n",
              "       [  11.87,   21.  ,   82.  ,  380.  ],\n",
              "       [  12.07,   21.  ,   85.  ,  378.  ],\n",
              "       [  12.43,   21.5 ,   86.  ,  352.  ],\n",
              "       [  11.79,   28.5 ,   92.  ,  466.  ],\n",
              "       [  12.37,   24.5 ,   88.  ,  342.  ],\n",
              "       [  12.04,   22.  ,   80.  ,  580.  ],\n",
              "       [  12.86,   18.  ,  122.  ,  630.  ],\n",
              "       [  12.88,   20.  ,  104.  ,  530.  ],\n",
              "       [  12.81,   24.  ,   98.  ,  560.  ],\n",
              "       [  12.7 ,   21.5 ,  106.  ,  600.  ],\n",
              "       [  12.51,   17.5 ,   85.  ,  650.  ],\n",
              "       [  12.6 ,   18.5 ,   94.  ,  695.  ],\n",
              "       [  12.25,   21.  ,   89.  ,  720.  ],\n",
              "       [  12.53,   25.  ,   96.  ,  515.  ],\n",
              "       [  13.49,   19.5 ,   88.  ,  580.  ],\n",
              "       [  12.84,   24.  ,  101.  ,  590.  ],\n",
              "       [  12.93,   21.  ,   96.  ,  600.  ],\n",
              "       [  13.36,   20.  ,   89.  ,  780.  ],\n",
              "       [  13.52,   23.5 ,   97.  ,  520.  ],\n",
              "       [  13.62,   20.  ,   92.  ,  550.  ],\n",
              "       [  12.25,   18.5 ,  112.  ,  855.  ],\n",
              "       [  13.16,   21.  ,  102.  ,  830.  ],\n",
              "       [  13.88,   20.  ,   80.  ,  415.  ],\n",
              "       [  12.87,   21.5 ,   86.  ,  625.  ],\n",
              "       [  13.32,   21.5 ,   92.  ,  650.  ],\n",
              "       [  13.08,   21.5 ,  113.  ,  550.  ],\n",
              "       [  13.5 ,   24.  ,  123.  ,  500.  ],\n",
              "       [  12.79,   22.  ,  112.  ,  480.  ],\n",
              "       [  13.11,   25.5 ,  116.  ,  425.  ],\n",
              "       [  13.23,   18.5 ,   98.  ,  675.  ],\n",
              "       [  12.58,   20.  ,  103.  ,  640.  ],\n",
              "       [  13.17,   22.  ,   93.  ,  725.  ],\n",
              "       [  13.84,   19.5 ,   89.  ,  480.  ],\n",
              "       [  12.45,   27.  ,   97.  ,  880.  ],\n",
              "       [  14.34,   25.  ,   98.  ,  660.  ],\n",
              "       [  13.48,   22.5 ,   89.  ,  620.  ],\n",
              "       [  12.36,   21.  ,   88.  ,  520.  ],\n",
              "       [  13.69,   20.  ,  107.  ,  680.  ],\n",
              "       [  12.85,   22.  ,  106.  ,  570.  ],\n",
              "       [  12.96,   18.5 ,  106.  ,  675.  ],\n",
              "       [  13.78,   22.  ,   90.  ,  615.  ],\n",
              "       [  13.73,   22.5 ,   88.  ,  520.  ],\n",
              "       [  13.45,   23.  ,  111.  ,  695.  ],\n",
              "       [  12.82,   19.5 ,   88.  ,  685.  ],\n",
              "       [  13.58,   24.5 ,  105.  ,  750.  ],\n",
              "       [  13.4 ,   25.  ,  112.  ,  630.  ],\n",
              "       [  12.2 ,   19.  ,   96.  ,  510.  ],\n",
              "       [  12.77,   19.5 ,   86.  ,  470.  ],\n",
              "       [  14.16,   20.  ,   91.  ,  660.  ],\n",
              "       [  13.71,   20.5 ,   95.  ,  740.  ],\n",
              "       [  13.4 ,   23.  ,  102.  ,  750.  ],\n",
              "       [  13.27,   20.  ,  120.  ,  835.  ],\n",
              "       [  13.17,   20.  ,  120.  ,  840.  ],\n",
              "       [  14.13,   24.5 ,   96.  ,  560.  ]])"
            ]
          },
          "metadata": {},
          "execution_count": 9
        }
      ]
    },
    {
      "cell_type": "markdown",
      "source": [
        "## Array Manipulation\n",
        "\n",
        "```result``` = $\\begin{bmatrix} 39984 \\\\ 82782 \\\\ 61530 \\end{bmatrix}$"
      ],
      "metadata": {
        "id": "Vo1CoRay8NUT"
      }
    },
    {
      "cell_type": "code",
      "source": [
        "arr1 = np.array([2,3,4,6,7,8,8,9,10,4,7,4]).reshape((3,4))\n",
        "arr2 = np.array([3,5,2,6,1,5,1,8]).reshape((4, 2))\n",
        "arr3 = np.array([6,3,4,6,3,2,5,12,14,3]).reshape((2, 5))\n",
        "arr4 = np.array([2,5,12,14,3]).reshape((5, 1))\n",
        "# Change the above code\n",
        "result = arr1.dot(arr2).dot(arr3).dot(arr4)\n",
        "result"
      ],
      "metadata": {
        "colab": {
          "base_uri": "https://localhost:8080/"
        },
        "id": "1D3gTdquIWaL",
        "outputId": "149b3fc2-0605-440d-b584-256f02288bb4"
      },
      "execution_count": null,
      "outputs": [
        {
          "output_type": "execute_result",
          "data": {
            "text/plain": [
              "array([[39984],\n",
              "       [82782],\n",
              "       [61530]])"
            ]
          },
          "metadata": {},
          "execution_count": 3
        }
      ]
    },
    {
      "cell_type": "markdown",
      "source": [
        "## MATH \n",
        "<br>![image.png](data:image/png;base64,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)"
      ],
      "metadata": {
        "id": "_hu3Kqp68N9B"
      }
    },
    {
      "cell_type": "code",
      "source": [
        "from sklearn import datasets\n",
        "\n",
        "iris = datasets.load_iris().data\n",
        "#TODO\n",
        "\n",
        "def multlinreg(X, y_obs):\n",
        "  X_t = np.transpose(X) # X.T\n",
        "  X_tX = np.dot(X_t,X)\n",
        "  X_ty = np.dot(X_t,y)\n",
        "  beta = np.linalg.inv(X_tX).dot(X_ty)\n",
        "  y_pred = np.dot(X, beta)\n",
        "  return y_obs, y_pred\n",
        "\n",
        "def r_sq(observed, pred):\n",
        "    num = np.sum((observed - pred)**2)\n",
        "    denum = np.sum((observed - np.mean(observed))**2)\n",
        "    return 1 - (num / denum)\n",
        "\n",
        "def vif(rsq):\n",
        "  return 1 / (1 - rsq)\n",
        "\n",
        "for i in range(0, iris.shape[1]):\n",
        "  arr = np.repeat(True, 4)\n",
        "  arr[i] = False\n",
        "  X = iris[:, arr]\n",
        "  y = iris[:, i]\n",
        "  observed, pred = multlinreg(X, y)\n",
        "  print(vif(r_sq(observed, pred)))"
      ],
      "metadata": {
        "colab": {
          "base_uri": "https://localhost:8080/"
        },
        "id": "-WFwt0BU8pQP",
        "outputId": "cb5a4a65-838d-422a-9a05-eb6a6f5ef8ab"
      },
      "execution_count": null,
      "outputs": [
        {
          "output_type": "stream",
          "name": "stdout",
          "text": [
            "5.143168358123582\n",
            "1.9067856580465097\n",
            "31.095309832651925\n",
            "15.892599530854572\n"
          ]
        }
      ]
    },
    {
      "cell_type": "markdown",
      "source": [
        "## Miscellaneous"
      ],
      "metadata": {
        "id": "iWEteLev8NUU"
      }
    },
    {
      "cell_type": "code",
      "source": [
        "import pandas as pd\n",
        "from scipy.stats import f_oneway\n",
        "data = pd.read_csv(\"https://www2.cs.arizona.edu/classes/cs120/fall17/ASSIGNMENTS/assg02/Pokemon.csv\")\n",
        "data.dropna(inplace=True)\n",
        "data.drop('#', axis=1, inplace=True)\n",
        "data.head(5)\n",
        "\n",
        "data_arr = data.values\n",
        "types = dict()\n",
        "# TODO:\n",
        "subset = data_arr[:, [1,4]]\n",
        "\n",
        "for type1 in np.unique(subset[:, 0]):\n",
        "  types[type1] = subset[np.where(subset[:, 0] == type1), 1].ravel()\n",
        "\n",
        "#####\n",
        "p_val = f_oneway(types['Bug'], types['Dark'], types['Dragon'], types['Electric'], types['Fairy'], types['Fighting'], types['Fire'], types['Flying'], types['Ghost'], types['Grass'], types['Ground'], types['Ice'], types['Normal'], types['Poison'], types['Psychic'], types['Rock'], types['Steel'], types['Water'])[1]\n",
        "print(f\"The p-value is {p_val}, is this string ecidence againest the null hyp at a 0.05 significance level?\")"
      ],
      "metadata": {
        "colab": {
          "base_uri": "https://localhost:8080/"
        },
        "id": "m_oMwPb0RYyA",
        "outputId": "0bdbfea0-79b2-43f7-be8f-d6695022806f"
      },
      "execution_count": null,
      "outputs": [
        {
          "output_type": "stream",
          "name": "stdout",
          "text": [
            "The p-value is 4.981710615387913e-07, is this string ecidence againest the null hyp at a 0.05 significance level?\n"
          ]
        }
      ]
    },
    {
      "cell_type": "markdown",
      "source": [
        "# 300\n"
      ],
      "metadata": {
        "id": "FynIFzZ18N8-"
      }
    },
    {
      "cell_type": "markdown",
      "source": [
        "## Open ended"
      ],
      "metadata": {
        "id": "efe6OTZW8N8_"
      }
    },
    {
      "cell_type": "markdown",
      "source": [],
      "metadata": {
        "id": "8C9hlx0yj_bf"
      }
    },
    {
      "cell_type": "markdown",
      "source": [
        "## Indexing/Slicing"
      ],
      "metadata": {
        "id": "pf7AUw3p8N9A"
      }
    },
    {
      "cell_type": "code",
      "source": [
        "# missing values\n",
        "from sklearn import datasets\n",
        "np.random.seed(10)\n",
        "data = datasets.load_breast_cancer().data\n",
        "randarr = np.random.rand(data.shape[0], data.shape[1])\n",
        "for i in range(0, data.shape[1]):\n",
        "  np.random.seed(i*22)\n",
        "  data[:, i][randarr[:, i] > np.random.rand()] = np.nan\n",
        "#TODO\n",
        "data[:, np.sum(np.isnan(data), axis = 0) / data.shape[0] * 100 <= 25]"
      ],
      "metadata": {
        "colab": {
          "base_uri": "https://localhost:8080/"
        },
        "id": "-JpOvVnR8lqH",
        "outputId": "5b70d946-6143-4d7a-f9b3-59db572a740d"
      },
      "execution_count": null,
      "outputs": [
        {
          "output_type": "execute_result",
          "data": {
            "text/plain": [
              "array([[1.228e+02, 3.001e-01, 8.589e+00, ..., 5.373e-02, 2.019e+03,\n",
              "        4.601e-01],\n",
              "       [      nan, 8.690e-02, 3.398e+00, ..., 1.860e-02, 1.956e+03,\n",
              "              nan],\n",
              "       [1.300e+02, 1.974e-01, 4.585e+00, ...,       nan, 1.709e+03,\n",
              "        3.613e-01],\n",
              "       ...,\n",
              "       [1.083e+02, 9.251e-02, 3.425e+00, ..., 4.730e-02, 1.124e+03,\n",
              "        2.218e-01],\n",
              "       [1.401e+02, 3.514e-01, 5.772e+00, ..., 7.117e-02, 1.821e+03,\n",
              "        4.087e-01],\n",
              "       [      nan, 0.000e+00, 2.548e+00, ..., 0.000e+00, 2.686e+02,\n",
              "              nan]])"
            ]
          },
          "metadata": {},
          "execution_count": 27
        }
      ]
    },
    {
      "cell_type": "markdown",
      "source": [
        "## Array Manipulation"
      ],
      "metadata": {
        "id": "ckRvWROF8N9A"
      }
    },
    {
      "cell_type": "code",
      "source": [
        "import cv2\n",
        "import urllib\n",
        "from google.colab.patches import cv2_imshow\n",
        "import matplotlib.pyplot as plt\n",
        "url = \"https://encrypted-tbn0.gstatic.com/images?q=tbn:ANd9GcRQJ6alPBFwUWAEUFTyC0ZxOzxKn3WS8cQrLA&usqp=CAU\"\n",
        "req = urllib.request.urlopen(url)\n",
        "arr = np.asarray(bytearray(req.read()), dtype=np.uint8)\n",
        "img = cv2.imdecode(arr, -1) # 'Load it as it is'\n",
        "img = cv2.cvtColor(img, cv2.COLOR_BGR2GRAY)\n",
        "plt.imshow(img, cmap='gray')\n",
        "#TODO, NOTE: img is a numpy array!\n",
        "img2 = img.copy()\n",
        "thres = 240\n",
        "img2[img > thres] = 255\n",
        "img2[img <= thres] = 0\n",
        "plt.imshow(img2 , cmap='gray')"
      ],
      "metadata": {
        "id": "r8bgMuvmbSas",
        "colab": {
          "base_uri": "https://localhost:8080/",
          "height": 269
        },
        "outputId": "6befc29d-f7d5-4fa9-ab99-1849a406af52"
      },
      "execution_count": null,
      "outputs": [
        {
          "output_type": "execute_result",
          "data": {
            "text/plain": [
              "<matplotlib.image.AxesImage at 0x7fb4695a1110>"
            ]
          },
          "metadata": {},
          "execution_count": 19
        },
        {
          "output_type": "display_data",
          "data": {
            "text/plain": [
              "<Figure size 432x288 with 1 Axes>"
            ],
            "image/png": "[encoded data removed]"
          },
          "metadata": {
            "needs_background": "light"
          }
        }
      ]
    },
    {
      "cell_type": "markdown",
      "source": [
        "## Math"
      ],
      "metadata": {
        "id": "99f91r3-TpMN"
      }
    },
    {
      "cell_type": "code",
      "source": [
        "np.random.seed(5)\n",
        "y_obs = np.random.rand(100)\n",
        "y_test = np.random.rand(100)\n",
        "y_obs[y_obs > 0.6] = 1\n",
        "y_obs[y_obs <= 0.6] = 0\n",
        "y_test[y_test > 0.3] = 1\n",
        "y_test[y_test <= 0.3] = 0\n",
        "#TODO\n",
        "ones_y_obs = np.where(y_obs == 1)\n",
        "ones_y_test = np.where(y_test == 1)\n",
        "TP = len(np.intersect1d(ones_y_obs, ones_y_test))\n",
        "\n",
        "zeros_y_obs = np.where(y_obs == 0)\n",
        "ones_y_test = np.where(y_test == 1)\n",
        "FP = len(np.intersect1d(zeros_y_obs, ones_y_test))\n",
        "\n",
        "ones_y_obs = np.where(y_obs == 1)\n",
        "zeros_y_test = np.where(y_test == 0)\n",
        "FN = len(np.intersect1d(ones_y_obs, zeros_y_test))\n",
        "\n",
        "zeros_y_obs = np.where(y_obs == 0)\n",
        "zeros_y_test = np.where(y_test == 0)\n",
        "TN = len(np.intersect1d(zeros_y_obs, zeros_y_test))\n",
        "\n",
        "recall = TP / (TP + FN)\n",
        "precision = TP / (TP + FP)\n",
        "f_measure = (2 * recall * precision) / (recall + precision)\n",
        "\n",
        "print(recall, precision, f_measure)"
      ],
      "metadata": {
        "colab": {
          "base_uri": "https://localhost:8080/"
        },
        "id": "ag-2gXf4VBgs",
        "outputId": "9897e9a3-4c41-4a14-a79e-0f314be9b921"
      },
      "execution_count": null,
      "outputs": [
        {
          "output_type": "stream",
          "name": "stdout",
          "text": [
            "0.7567567567567568 0.3684210526315789 0.495575221238938\n"
          ]
        }
      ]
    },
    {
      "cell_type": "markdown",
      "source": [
        "## Miscellaneous"
      ],
      "metadata": {
        "id": "JazxXGz78N9B"
      }
    },
    {
      "cell_type": "code",
      "source": [
        "arr1 = np.array(\n",
        "    [\n",
        "        [1,2,3],\n",
        "        [4,5,6]\n",
        "    ]\n",
        ")\n",
        "\n",
        "arr2 = np.array(\n",
        "    [\n",
        "        [7,8],\n",
        "        [9,10],\n",
        "        [11,12]\n",
        "    ]\n",
        ")\n",
        "\n",
        "def dot_mul(mat1, mat2):\n",
        "  ret = np.zeros((mat1.shape[0], mat2.shape[1]))\n",
        "  for i in range(0, mat1.shape[0]):\n",
        "    row = mat1[i, :]\n",
        "    for j in range(0, mat2.shape[1]):\n",
        "      col = mat2[:, j].ravel()\n",
        "      ret[i, j] = np.sum(row * col)\n",
        "  return ret\n",
        "\n",
        "# dot_vec(np.array([1,2,3]), np.array([[7],[9],[11]]).ravel())\n",
        "dot_mul(arr1, arr2)"
      ],
      "metadata": {
        "id": "qX1oY5qb8N9C",
        "colab": {
          "base_uri": "https://localhost:8080/"
        },
        "outputId": "a7980e28-a24e-4ab6-e5e6-5e0d718e0c0a"
      },
      "execution_count": null,
      "outputs": [
        {
          "output_type": "execute_result",
          "data": {
            "text/plain": [
              "array([[ 58.,  64.],\n",
              "       [139., 154.]])"
            ]
          },
          "metadata": {},
          "execution_count": 13
        }
      ]
    },
    {
      "cell_type": "code",
      "source": [
        "np.zeros((3,4))"
      ],
      "metadata": {
        "colab": {
          "base_uri": "https://localhost:8080/"
        },
        "id": "wIfh40aN89G7",
        "outputId": "6a0cb9c8-cb99-48ca-97db-882c629cb69a"
      },
      "execution_count": null,
      "outputs": [
        {
          "output_type": "execute_result",
          "data": {
            "text/plain": [
              "array([[0., 0., 0., 0.],\n",
              "       [0., 0., 0., 0.],\n",
              "       [0., 0., 0., 0.]])"
            ]
          },
          "metadata": {},
          "execution_count": 7
        }
      ]
    },
    {
      "cell_type": "markdown",
      "source": [
        "# 400\n"
      ],
      "metadata": {
        "id": "zJoZkEde8Ofm"
      }
    },
    {
      "cell_type": "markdown",
      "source": [
        "## Open Ended"
      ],
      "metadata": {
        "id": "0_x9Otes8Ofm"
      }
    },
    {
      "cell_type": "code",
      "source": [],
      "metadata": {
        "id": "3beKHAU1VAfA"
      },
      "execution_count": null,
      "outputs": []
    },
    {
      "cell_type": "markdown",
      "source": [
        "## Indexing/Slicing"
      ],
      "metadata": {
        "id": "EEerc5TP8Ofn"
      }
    },
    {
      "cell_type": "code",
      "source": [
        "from sklearn import datasets\n",
        "np.random.seed(11)\n",
        "data = datasets.load_linnerud().data\n",
        "randarr = np.random.rand(data.shape[0], data.shape[1])\n",
        "for i in range(0, data.shape[1]):\n",
        "  np.random.seed(i*22)\n",
        "  data[:, i][randarr[:, i] > np.random.rand()] = np.nan\n",
        "#TODO\n",
        "for i in range(0, data.shape[1]):\n",
        "  print(np.median(data[:, i][np.invert(np.isnan(data[:, i]))])) \n",
        "  data[:, i] = np.where(np.isnan(data[:, i]), np.median(data[:, i][np.invert(np.isnan(data[:, i]))]), data[:, i]) \n",
        "\n",
        "# data\n",
        "# data\n",
        "# np.isnan(data[:, 0])"
      ],
      "metadata": {
        "colab": {
          "base_uri": "https://localhost:8080/"
        },
        "id": "od_O4kv0Bdg7",
        "outputId": "ceb49426-abd2-448d-820c-ff049b5054c8"
      },
      "execution_count": null,
      "outputs": [
        {
          "output_type": "stream",
          "name": "stdout",
          "text": [
            "11.5\n",
            "181.0\n",
            "43.0\n"
          ]
        }
      ]
    },
    {
      "cell_type": "markdown",
      "source": [
        "## Array Manipulation"
      ],
      "metadata": {
        "id": "YeJRM7EY8Ofo"
      }
    },
    {
      "cell_type": "code",
      "source": [
        "from sklearn.datasets import fetch_california_housing\n",
        "data = fetch_california_housing().data\n",
        "np.random.seed(100)\n",
        "randarr = np.random.rand(data.shape[0], data.shape[1])\n",
        "for i in range(0, data.shape[1]):\n",
        "  np.random.seed(i*22)\n",
        "  data[:, i][randarr[:, i] < (np.random.rand() / 100)] = np.nan\n",
        "#TODO \n",
        "\n",
        "data[~np.isnan(data).any(axis=1), :]\n"
      ],
      "metadata": {
        "colab": {
          "base_uri": "https://localhost:8080/"
        },
        "id": "_OVNqodnJAql",
        "outputId": "4bfbf595-d8cf-42e5-bc2d-9eee6adbe713"
      },
      "execution_count": null,
      "outputs": [
        {
          "output_type": "execute_result",
          "data": {
            "text/plain": [
              "array([[   8.3014    ,   21.        ,    6.23813708, ...,    2.10984183,\n",
              "          37.86      , -122.22      ],\n",
              "       [   7.2574    ,   52.        ,    8.28813559, ...,    2.80225989,\n",
              "          37.85      , -122.24      ],\n",
              "       [   3.8462    ,   52.        ,    6.28185328, ...,    2.18146718,\n",
              "          37.85      , -122.25      ],\n",
              "       ...,\n",
              "       [   1.7       ,   17.        ,    5.20554273, ...,    2.3256351 ,\n",
              "          39.43      , -121.22      ],\n",
              "       [   1.8672    ,   18.        ,    5.32951289, ...,    2.12320917,\n",
              "          39.43      , -121.32      ],\n",
              "       [   2.3886    ,   16.        ,    5.25471698, ...,    2.61698113,\n",
              "          39.37      , -121.24      ]])"
            ]
          },
          "metadata": {},
          "execution_count": 39
        }
      ]
    },
    {
      "cell_type": "markdown",
      "source": [
        "## Math\n",
        "\n",
        "![image.png](data:image/png;base64,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)"
      ],
      "metadata": {
        "id": "kWMtc2ce8Ofo"
      }
    },
    {
      "cell_type": "code",
      "source": [
        "np.random.seed(1)\n",
        "data1 = np.random.rand(50) * 50\n",
        "np.random.seed(2)\n",
        "data2 = np.random.rand(50) * 48\n",
        "\n",
        "num = np.mean(data1) - np.mean(data2)\n",
        "denum = np.sqrt(((np.std(data1) ** 2) / len(data1)) + ((np.std(data2) ** 2) / len(data2)))\n",
        "\n",
        "num/denum\n"
      ],
      "metadata": {
        "id": "ACQfVH72YjEp",
        "colab": {
          "base_uri": "https://localhost:8080/"
        },
        "outputId": "6ef1973e-aeea-465c-af13-233bc3c0eb60"
      },
      "execution_count": null,
      "outputs": [
        {
          "output_type": "execute_result",
          "data": {
            "text/plain": [
              "0.5825181068061706"
            ]
          },
          "metadata": {},
          "execution_count": 38
        }
      ]
    },
    {
      "cell_type": "markdown",
      "source": [
        "## Miscellaneous"
      ],
      "metadata": {
        "id": "H3163yzW8Ofp"
      }
    },
    {
      "cell_type": "code",
      "source": [],
      "metadata": {
        "id": "qjgMKcfq8Ofp"
      },
      "execution_count": null,
      "outputs": []
    },
    {
      "cell_type": "markdown",
      "source": [
        "## Creating Arrays"
      ],
      "metadata": {
        "id": "ArnFkQje8P9-"
      }
    },
    {
      "cell_type": "markdown",
      "source": [
        "## Indexing/Slicing\n",
        "\n",
        "dot multi without dot"
      ],
      "metadata": {
        "id": "bRcM5OMm8P9-"
      }
    },
    {
      "cell_type": "markdown",
      "source": [
        "## Array Manipulation"
      ],
      "metadata": {
        "id": "04TFKORW8P9_"
      }
    },
    {
      "cell_type": "markdown",
      "source": [
        "## Math\n",
        "\n",
        "tukey hsd"
      ],
      "metadata": {
        "id": "ZEBuW80X8P9_"
      }
    },
    {
      "cell_type": "markdown",
      "source": [
        "## Miscellaneous"
      ],
      "metadata": {
        "id": "YsZk-8g28P-A"
      }
    },
    {
      "cell_type": "code",
      "source": [],
      "metadata": {
        "id": "MyPx_4WW8P-B"
      },
      "execution_count": null,
      "outputs": []
    }
  ]
}