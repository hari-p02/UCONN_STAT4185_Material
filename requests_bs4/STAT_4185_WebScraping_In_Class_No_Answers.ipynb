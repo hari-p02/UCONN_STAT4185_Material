{
 "cells": [
  {
   "cell_type": "markdown",
   "metadata": {
    "id": "yfFpLw4YLyg2"
   },
   "source": [
    "## Introduction\n",
    "\n",
    "During this class section we will be make a dataset (suprise suprise) by folowing this notebook. We will scrape data off of [https://money.com/best-colleges/](https://money.com/best-colleges/). Money is an independent, advertiser-supported website and their editors \"research hundreds of sources and contact hundreds of the most respected experts in each industry to get the most relevant information to help others make the right purchasing decision.\" The data consists of various/useful metrics of the the best colleges in America ranked by value (as determined by the website). \n",
    "\n",
    "We will follow the steps of the web scraping \"pipeline\" in this notebook.\n",
    "\n",
    "Features of the dataset - Demo\n",
    "\n",
    "First lets explore the website"
   ]
  },
  {
   "cell_type": "markdown",
   "metadata": {
    "id": "ebuJ1B1gNCA0"
   },
   "source": [
    "# Import Packages"
   ]
  },
  {
   "cell_type": "code",
   "execution_count": 2,
   "metadata": {
    "id": "X81PeRmbLRUh"
   },
   "outputs": [],
   "source": [
    "import requests\n",
    "from bs4 import BeautifulSoup as bs\n",
    "import pandas as pd\n",
    "import numpy as np"
   ]
  },
  {
   "cell_type": "markdown",
   "metadata": {},
   "source": [
    "Make an GET request to get all the html from this webpage, print out the status code and the server that is giving you the html"
   ]
  },
  {
   "cell_type": "code",
   "execution_count": null,
   "metadata": {},
   "outputs": [],
   "source": []
  },
  {
   "cell_type": "markdown",
   "metadata": {},
   "source": [
    "Pass in the html document into a beautiful soup object"
   ]
  },
  {
   "cell_type": "code",
   "execution_count": 10,
   "metadata": {
    "id": "VQ8TFIU4Njkd"
   },
   "outputs": [],
   "source": []
  },
  {
   "cell_type": "markdown",
   "metadata": {},
   "source": [
    "Run this code cell to define this simple function. What is this function doing? What are we going to use it? What type of object does `element` have to be?"
   ]
  },
  {
   "cell_type": "code",
   "execution_count": 7,
   "metadata": {
    "id": "RTVfIls61KAo"
   },
   "outputs": [],
   "source": [
    "def func(element):\n",
    "  return element.string"
   ]
  },
  {
   "cell_type": "markdown",
   "metadata": {},
   "source": [
    "Use the above function and find the proper CSS Selectors to get the respective data, I will demo the first one. Note that getting CSS selectors can be tricky. I usually like to do a combo of the SelectorGadget extension and the Inspect Element tool to determine proper selectors. "
   ]
  },
  {
   "cell_type": "code",
   "execution_count": 1,
   "metadata": {
    "id": "EhBR7thPNsxF"
   },
   "outputs": [],
   "source": [
    "college_names = []\n",
    "college_location = []\n",
    "overall_score = []\n",
    "acceptance_rate = []\n",
    "Est_full_price_22_23 = []\n",
    "Est_price_with_avg_grant = []\n",
    "percent_of_student_who_get_grants = []\n",
    "graduation_rate = []\n",
    "early_career_earnings = []"
   ]
  },
  {
   "cell_type": "markdown",
   "metadata": {},
   "source": [
    "Now that we have all the data from the table stored into their respective lists, we can move onto getting data specific to the college by \"clicking\" on the link in the table. How do be \"click\" links on a webpage with `requests` and `BeautifulSoup`? Implement it below by \"clicking\" on the \"University of Michigan\"."
   ]
  },
  {
   "cell_type": "code",
   "execution_count": 13,
   "metadata": {
    "id": "7Fph-bTsOJoJ"
   },
   "outputs": [],
   "source": []
  },
  {
   "cell_type": "markdown",
   "metadata": {},
   "source": [
    "Below I initialized a bunch of lists that will store data specific to a college. "
   ]
  },
  {
   "cell_type": "code",
   "execution_count": 14,
   "metadata": {
    "id": "r0s15oAtvfoI"
   },
   "outputs": [],
   "source": [
    "avg_price_for_low_income_students = []\n",
    "median_sat_act_score = []\n",
    "sat_act_required = []\n",
    "undergrad_enrollment = []\n",
    "percent_of_students_with_need_who_get_grants = []\n",
    "percent_of_need_met = []\n",
    "percent_of_students_who_get_merit_grants = []\n",
    "avg_merit_grant = []\n",
    "avg_time_to_a_degree = []\n",
    "median_student_debt = []\n",
    "percent_earning_more_than_a_high_school_grad = []"
   ]
  },
  {
   "cell_type": "markdown",
   "metadata": {},
   "source": [
    "\"Click\" on each link and extract the proper data (make sure to find and use the right CSS Selectors) and then add them to the list."
   ]
  },
  {
   "cell_type": "code",
   "execution_count": 11,
   "metadata": {
    "id": "jtichZE3s8bm"
   },
   "outputs": [],
   "source": []
  },
  {
   "cell_type": "markdown",
   "metadata": {},
   "source": [
    "The focus on this week's material is on the `pandas` package which is what we will use to store the data we extract from a webpage. I have made the code to package all the data into a dataset and save it as a `.csv` file. You will understand how I am doing this after going through this week's material."
   ]
  },
  {
   "cell_type": "code",
   "execution_count": 12,
   "metadata": {
    "id": "CqUTenVuzqtH"
   },
   "outputs": [],
   "source": [
    "data = {\n",
    "    \"college_names\": college_names, \n",
    "    \"college_location\": college_location, \n",
    "    \"overall_score\" : overall_score,\n",
    "    \"acceptance_rate\" : acceptance_rate,\n",
    "    \"Est_full_price_22_23\": Est_full_price_22_23, \n",
    "    \"Est_price_with_avg_grant\": Est_price_with_avg_grant, \n",
    "    \"percent_of_student_who_get_grants\": percent_of_student_who_get_grants, \n",
    "    \"graduation_rate\": graduation_rate,\n",
    "    \"early_career_earnings\": early_career_earnings,\n",
    "    \"avg_price_for_low_income_students\": avg_price_for_low_income_students,\n",
    "    \"median_sat_act_score\" : median_sat_act_score,\n",
    "    \"sat_act_required\" : sat_act_required,\n",
    "    \"undergrad_enrollment\": undergrad_enrollment, \n",
    "    \"percent_of_students_with_need_who_get_grants\" : percent_of_students_with_need_who_get_grants,\n",
    "    \"percent_of_need_met\" : percent_of_need_met,\n",
    "    \"percent_of_students_who_get_merit_grants\" : percent_of_students_who_get_merit_grants, \n",
    "    \"avg_merit_grant\" : avg_merit_grant,\n",
    "    \"avg_time_to_a_degree\" : avg_time_to_a_degree,\n",
    "    \"median_student_debt\" : median_student_debt,\n",
    "    \"percent_earning_more_than_a_high_school_grad\" : percent_earning_more_than_a_high_school_grad \n",
    "\n",
    "}"
   ]
  },
  {
   "cell_type": "code",
   "execution_count": 13,
   "metadata": {
    "id": "PUzeTyL40jnK"
   },
   "outputs": [],
   "source": [
    "college_df = pd.DataFrame(data=data)"
   ]
  },
  {
   "cell_type": "code",
   "execution_count": 14,
   "metadata": {
    "colab": {
     "base_uri": "https://localhost:8080/",
     "height": 392
    },
    "id": "fDws5BrX0py1",
    "outputId": "51f6ed0f-1f69-436c-a4e8-037645a34279"
   },
   "outputs": [
    {
     "data": {
      "text/html": [
       "<div>\n",
       "<style scoped>\n",
       "    .dataframe tbody tr th:only-of-type {\n",
       "        vertical-align: middle;\n",
       "    }\n",
       "\n",
       "    .dataframe tbody tr th {\n",
       "        vertical-align: top;\n",
       "    }\n",
       "\n",
       "    .dataframe thead th {\n",
       "        text-align: right;\n",
       "    }\n",
       "</style>\n",
       "<table border=\"1\" class=\"dataframe\">\n",
       "  <thead>\n",
       "    <tr style=\"text-align: right;\">\n",
       "      <th></th>\n",
       "      <th>college_names</th>\n",
       "      <th>college_location</th>\n",
       "      <th>overall_score</th>\n",
       "      <th>acceptance_rate</th>\n",
       "      <th>Est_full_price_22_23</th>\n",
       "      <th>Est_price_with_avg_grant</th>\n",
       "      <th>percent_of_student_who_get_grants</th>\n",
       "      <th>graduation_rate</th>\n",
       "      <th>early_career_earnings</th>\n",
       "      <th>avg_price_for_low_income_students</th>\n",
       "      <th>median_sat_act_score</th>\n",
       "      <th>sat_act_required</th>\n",
       "      <th>undergrad_enrollment</th>\n",
       "      <th>percent_of_students_with_need_who_get_grants</th>\n",
       "      <th>percent_of_need_met</th>\n",
       "      <th>percent_of_students_who_get_merit_grants</th>\n",
       "      <th>avg_merit_grant</th>\n",
       "      <th>avg_time_to_a_degree</th>\n",
       "      <th>median_student_debt</th>\n",
       "      <th>percent_earning_more_than_a_high_school_grad</th>\n",
       "    </tr>\n",
       "  </thead>\n",
       "  <tbody>\n",
       "    <tr>\n",
       "      <th>0</th>\n",
       "      <td>University of Michigan</td>\n",
       "      <td>Ann Arbor, MI</td>\n",
       "      <td>\\n                  89.41\\n</td>\n",
       "      <td>\\n                  23%\\n</td>\n",
       "      <td>\\n                  $32,400\\n</td>\n",
       "      <td>\\n                  $18,800\\n</td>\n",
       "      <td>\\n                  53%\\n</td>\n",
       "      <td>\\n                  92%\\n</td>\n",
       "      <td>\\n                  $75,840\\n</td>\n",
       "      <td>$2,670</td>\n",
       "      <td>1440/33</td>\n",
       "      <td>No</td>\n",
       "      <td>31,050</td>\n",
       "      <td>81%</td>\n",
       "      <td>92%</td>\n",
       "      <td>11%</td>\n",
       "      <td>$5,670</td>\n",
       "      <td>4.2 years</td>\n",
       "      <td>$18,526</td>\n",
       "      <td>81%</td>\n",
       "    </tr>\n",
       "    <tr>\n",
       "      <th>1</th>\n",
       "      <td>University of North Carolina at Chapel Hill</td>\n",
       "      <td>Chapel Hill, NC</td>\n",
       "      <td>\\n                  86.22\\n</td>\n",
       "      <td>\\n                  23%\\n</td>\n",
       "      <td>\\n                  $25,200\\n</td>\n",
       "      <td>\\n                  $10,600\\n</td>\n",
       "      <td>\\n                  53%\\n</td>\n",
       "      <td>\\n                  89%\\n</td>\n",
       "      <td>\\n                  $61,920\\n</td>\n",
       "      <td>$3,750</td>\n",
       "      <td>1410/31</td>\n",
       "      <td>No</td>\n",
       "      <td>19,010</td>\n",
       "      <td>90%</td>\n",
       "      <td>100%</td>\n",
       "      <td>5%</td>\n",
       "      <td>$7,030</td>\n",
       "      <td>4.1 years</td>\n",
       "      <td>$14,500</td>\n",
       "      <td>78%</td>\n",
       "    </tr>\n",
       "    <tr>\n",
       "      <th>2</th>\n",
       "      <td>University of Virginia</td>\n",
       "      <td>Charlottesville, VA</td>\n",
       "      <td>\\n                  86.11\\n</td>\n",
       "      <td>\\n                  24%\\n</td>\n",
       "      <td>\\n                  $36,700\\n</td>\n",
       "      <td>\\n                  $20,100\\n</td>\n",
       "      <td>\\n                  48%\\n</td>\n",
       "      <td>\\n                  94%\\n</td>\n",
       "      <td>\\n                  $77,050\\n</td>\n",
       "      <td>$12,480</td>\n",
       "      <td>1430/32</td>\n",
       "      <td>No</td>\n",
       "      <td>16,720</td>\n",
       "      <td>91%</td>\n",
       "      <td>100%</td>\n",
       "      <td>4%</td>\n",
       "      <td>$5,630</td>\n",
       "      <td>4.1 years</td>\n",
       "      <td>$18,250</td>\n",
       "      <td>84%</td>\n",
       "    </tr>\n",
       "    <tr>\n",
       "      <th>3</th>\n",
       "      <td>Massachusetts Maritime Academy</td>\n",
       "      <td>Buzzards Bay, MA</td>\n",
       "      <td>\\n                  86.07\\n</td>\n",
       "      <td>\\n                  91%\\n</td>\n",
       "      <td>\\n                  $31,600\\n</td>\n",
       "      <td>\\n                  $18,600\\n</td>\n",
       "      <td>\\n                  43%\\n</td>\n",
       "      <td>\\n                  73%\\n</td>\n",
       "      <td>\\n                  $91,670\\n</td>\n",
       "      <td>$6,380</td>\n",
       "      <td>1100/22</td>\n",
       "      <td>No</td>\n",
       "      <td>1,650</td>\n",
       "      <td>56%</td>\n",
       "      <td>71%</td>\n",
       "      <td>11%</td>\n",
       "      <td>$5,530</td>\n",
       "      <td>4.2 years</td>\n",
       "      <td>$26,000</td>\n",
       "      <td>91%</td>\n",
       "    </tr>\n",
       "    <tr>\n",
       "      <th>4</th>\n",
       "      <td>Virginia Military Institute</td>\n",
       "      <td>Lexington, VA</td>\n",
       "      <td>\\n                  85.14\\n</td>\n",
       "      <td>\\n                  60%\\n</td>\n",
       "      <td>\\n                  $33,300\\n</td>\n",
       "      <td>\\n                  $20,000\\n</td>\n",
       "      <td>\\n                  85%\\n</td>\n",
       "      <td>\\n                  78%\\n</td>\n",
       "      <td>\\n                  $71,910\\n</td>\n",
       "      <td>$10,560</td>\n",
       "      <td>1180/25</td>\n",
       "      <td>No</td>\n",
       "      <td>1,700</td>\n",
       "      <td>77%</td>\n",
       "      <td>88%</td>\n",
       "      <td>14%</td>\n",
       "      <td>$13,100</td>\n",
       "      <td>4.1 years</td>\n",
       "      <td>$21,500</td>\n",
       "      <td>85%</td>\n",
       "    </tr>\n",
       "  </tbody>\n",
       "</table>\n",
       "</div>"
      ],
      "text/plain": [
       "                                 college_names     college_location  \\\n",
       "0                       University of Michigan        Ann Arbor, MI   \n",
       "1  University of North Carolina at Chapel Hill      Chapel Hill, NC   \n",
       "2                       University of Virginia  Charlottesville, VA   \n",
       "3               Massachusetts Maritime Academy     Buzzards Bay, MA   \n",
       "4                  Virginia Military Institute        Lexington, VA   \n",
       "\n",
       "                               overall_score  \\\n",
       "0  \\n                  89.41\\n                 \n",
       "1  \\n                  86.22\\n                 \n",
       "2  \\n                  86.11\\n                 \n",
       "3  \\n                  86.07\\n                 \n",
       "4  \\n                  85.14\\n                 \n",
       "\n",
       "                           acceptance_rate  \\\n",
       "0  \\n                  23%\\n                 \n",
       "1  \\n                  23%\\n                 \n",
       "2  \\n                  24%\\n                 \n",
       "3  \\n                  91%\\n                 \n",
       "4  \\n                  60%\\n                 \n",
       "\n",
       "                          Est_full_price_22_23  \\\n",
       "0  \\n                  $32,400\\n                 \n",
       "1  \\n                  $25,200\\n                 \n",
       "2  \\n                  $36,700\\n                 \n",
       "3  \\n                  $31,600\\n                 \n",
       "4  \\n                  $33,300\\n                 \n",
       "\n",
       "                      Est_price_with_avg_grant  \\\n",
       "0  \\n                  $18,800\\n                 \n",
       "1  \\n                  $10,600\\n                 \n",
       "2  \\n                  $20,100\\n                 \n",
       "3  \\n                  $18,600\\n                 \n",
       "4  \\n                  $20,000\\n                 \n",
       "\n",
       "         percent_of_student_who_get_grants  \\\n",
       "0  \\n                  53%\\n                 \n",
       "1  \\n                  53%\\n                 \n",
       "2  \\n                  48%\\n                 \n",
       "3  \\n                  43%\\n                 \n",
       "4  \\n                  85%\\n                 \n",
       "\n",
       "                           graduation_rate  \\\n",
       "0  \\n                  92%\\n                 \n",
       "1  \\n                  89%\\n                 \n",
       "2  \\n                  94%\\n                 \n",
       "3  \\n                  73%\\n                 \n",
       "4  \\n                  78%\\n                 \n",
       "\n",
       "                         early_career_earnings  \\\n",
       "0  \\n                  $75,840\\n                 \n",
       "1  \\n                  $61,920\\n                 \n",
       "2  \\n                  $77,050\\n                 \n",
       "3  \\n                  $91,670\\n                 \n",
       "4  \\n                  $71,910\\n                 \n",
       "\n",
       "  avg_price_for_low_income_students median_sat_act_score sat_act_required  \\\n",
       "0                            $2,670              1440/33               No   \n",
       "1                            $3,750              1410/31               No   \n",
       "2                           $12,480              1430/32               No   \n",
       "3                            $6,380              1100/22               No   \n",
       "4                           $10,560              1180/25               No   \n",
       "\n",
       "  undergrad_enrollment percent_of_students_with_need_who_get_grants  \\\n",
       "0               31,050                                          81%   \n",
       "1               19,010                                          90%   \n",
       "2               16,720                                          91%   \n",
       "3                1,650                                          56%   \n",
       "4                1,700                                          77%   \n",
       "\n",
       "  percent_of_need_met percent_of_students_who_get_merit_grants  \\\n",
       "0                 92%                                      11%   \n",
       "1                100%                                       5%   \n",
       "2                100%                                       4%   \n",
       "3                 71%                                      11%   \n",
       "4                 88%                                      14%   \n",
       "\n",
       "  avg_merit_grant avg_time_to_a_degree median_student_debt  \\\n",
       "0          $5,670            4.2 years             $18,526   \n",
       "1          $7,030            4.1 years             $14,500   \n",
       "2          $5,630            4.1 years             $18,250   \n",
       "3          $5,530            4.2 years             $26,000   \n",
       "4         $13,100            4.1 years             $21,500   \n",
       "\n",
       "  percent_earning_more_than_a_high_school_grad  \n",
       "0                                          81%  \n",
       "1                                          78%  \n",
       "2                                          84%  \n",
       "3                                          91%  \n",
       "4                                          85%  "
      ]
     },
     "execution_count": 14,
     "metadata": {},
     "output_type": "execute_result"
    }
   ],
   "source": [
    "college_df.head()"
   ]
  },
  {
   "cell_type": "markdown",
   "metadata": {},
   "source": [
    "Notice the shape of the dataset, we have 623 rows and 20 columns"
   ]
  },
  {
   "cell_type": "code",
   "execution_count": null,
   "metadata": {
    "colab": {
     "base_uri": "https://localhost:8080/"
    },
    "id": "ibko-bmK5aOY",
    "outputId": "0a1d2443-e47a-4919-92a0-72280e2a52ff"
   },
   "outputs": [
    {
     "data": {
      "text/plain": [
       "(623, 20)"
      ]
     },
     "execution_count": 135,
     "metadata": {},
     "output_type": "execute_result"
    }
   ],
   "source": [
    "college_df.shape"
   ]
  }
 ],
 "metadata": {
  "colab": {
   "name": "STAT 4185 - WebScraping_In_Class.ipynb",
   "provenance": []
  },
  "kernelspec": {
   "display_name": "Python 3",
   "language": "python",
   "name": "python3"
  },
  "language_info": {
   "codemirror_mode": {
    "name": "ipython",
    "version": 3
   },
   "file_extension": ".py",
   "mimetype": "text/x-python",
   "name": "python",
   "nbconvert_exporter": "python",
   "pygments_lexer": "ipython3",
   "version": "3.8.2"
  }
 },
 "nbformat": 4,
 "nbformat_minor": 4
}
